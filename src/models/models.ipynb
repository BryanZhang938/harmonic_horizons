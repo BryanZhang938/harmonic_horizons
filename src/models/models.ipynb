{
 "cells": [
  {
   "cell_type": "code",
   "id": "initial_id",
   "metadata": {
    "collapsed": true,
    "ExecuteTime": {
     "end_time": "2024-09-17T23:28:31.948164Z",
     "start_time": "2024-09-17T23:28:31.895996Z"
    }
   },
   "source": [
    "import pandas as pd\n",
    "from sklearn.decomposition import PCA\n",
    "from sklearn.preprocessing import StandardScaler\n",
    "from sklearn.tree import DecisionTreeClassifier, DecisionTreeRegressor\n",
    "from sklearn.linear_model import LogisticRegression\n",
    "from sklearn.discriminant_analysis import LinearDiscriminantAnalysis, QuadraticDiscriminantAnalysis\n",
    "from sklearn.neighbors import KNeighborsClassifier\n",
    "from sklearn.model_selection import train_test_split\n",
    "from sklearn.metrics import accuracy_score, confusion_matrix, classification_report\n",
    "from sklearn.naive_bayes import GaussianNB"
   ],
   "outputs": [],
   "execution_count": 40
  },
  {
   "metadata": {
    "ExecuteTime": {
     "end_time": "2024-09-17T23:28:32.054079Z",
     "start_time": "2024-09-17T23:28:32.030682Z"
    }
   },
   "cell_type": "code",
   "source": "df = pd.read_csv('/Users/bryanzhang/Desktop/career/projects/harmonic_horizons/data/cleaned_tracks2.csv')",
   "id": "ddc932f0db3cac8f",
   "outputs": [],
   "execution_count": 41
  },
  {
   "metadata": {
    "ExecuteTime": {
     "end_time": "2024-09-17T23:57:25.533513Z",
     "start_time": "2024-09-17T23:57:13.293273Z"
    }
   },
   "cell_type": "code",
   "source": [
    "# Multinomial Logistic with Ridge Regression\n",
    "X = df.drop(columns=['mood', 'name'])\n",
    "y = df['mood']\n",
    "X_train, X_test, y_train, y_test = train_test_split(X, y, test_size=0.2, random_state=0)\n",
    "\n",
    "model = LogisticRegression(penalty='l2', solver='lbfgs', max_iter=100000, class_weight='balanced')\n",
    "model.fit(X_train, y_train)\n",
    "\n",
    "y_pred = model.predict(X_test)\n",
    "accuracy = accuracy_score(y_test, y_pred)\n",
    "print(f'Accuracy: {accuracy*100:.2f}%')"
   ],
   "id": "7b2c3621b6adde2e",
   "outputs": [
    {
     "name": "stdout",
     "output_type": "stream",
     "text": [
      "Accuracy: 56.95%\n"
     ]
    }
   ],
   "execution_count": 136
  },
  {
   "metadata": {
    "ExecuteTime": {
     "end_time": "2024-09-17T23:57:34.622814Z",
     "start_time": "2024-09-17T23:57:34.554991Z"
    }
   },
   "cell_type": "code",
   "source": [
    "# PCA\n",
    "scaler = StandardScaler()\n",
    "X_train_scaled = scaler.fit_transform(X_train)\n",
    "X_test_scaled = scaler.transform(X_test)\n",
    "\n",
    "pca = PCA(n_components=14)\n",
    "X_train_pca = pca.fit_transform(X_train_scaled)\n",
    "X_test_pca = pca.transform(X_test_scaled)\n",
    "\n",
    "model = LogisticRegression(penalty=None, solver='lbfgs', class_weight='balanced')\n",
    "model.fit(X_train_pca, y_train)\n",
    "\n",
    "y_pred = model.predict(X_test_pca)\n",
    "accuracy = accuracy_score(y_test, y_pred)\n",
    "print(f'Accuracy: {accuracy*100:.2f}%')"
   ],
   "id": "157406c659397a92",
   "outputs": [
    {
     "name": "stdout",
     "output_type": "stream",
     "text": [
      "Accuracy: 56.98%\n"
     ]
    }
   ],
   "execution_count": 137
  },
  {
   "metadata": {
    "ExecuteTime": {
     "end_time": "2024-09-17T23:28:47.252705Z",
     "start_time": "2024-09-17T23:28:47.224339Z"
    }
   },
   "cell_type": "code",
   "source": [
    "# LDA\n",
    "lda = LinearDiscriminantAnalysis()\n",
    "lda.fit(X_train, y_train)\n",
    "y_pred = lda.predict(X_test)\n",
    "\n",
    "accuracy = accuracy_score(y_test, y_pred)\n",
    "conf_matrix = confusion_matrix(y_test, y_pred)\n",
    "print(f'Accuracy: {accuracy*100:.2f}%')\n",
    "conf_matrix"
   ],
   "id": "ab8469627e83fc72",
   "outputs": [
    {
     "name": "stdout",
     "output_type": "stream",
     "text": [
      "Accuracy: 56.36%\n"
     ]
    },
    {
     "data": {
      "text/plain": [
       "array([[360,  13, 102,  89,  41],\n",
       "       [ 29, 686,  40,  46,  94],\n",
       "       [164,  21, 172, 146,  30],\n",
       "       [ 68,  49,  64, 246,  42],\n",
       "       [ 58, 134,  44,  63, 263]])"
      ]
     },
     "execution_count": 44,
     "metadata": {},
     "output_type": "execute_result"
    }
   ],
   "execution_count": 44
  },
  {
   "metadata": {
    "ExecuteTime": {
     "end_time": "2024-09-17T23:28:47.276756Z",
     "start_time": "2024-09-17T23:28:47.254265Z"
    }
   },
   "cell_type": "code",
   "source": [
    "# QDA\n",
    "qda = QuadraticDiscriminantAnalysis()\n",
    "qda.fit(X_train, y_train)\n",
    "y_pred = qda.predict(X_test)\n",
    "\n",
    "accuracy = accuracy_score(y_test, y_pred)\n",
    "conf_matrix = confusion_matrix(y_test, y_pred)\n",
    "print(f'Accuracy: {accuracy*100:.2f}%')\n",
    "conf_matrix"
   ],
   "id": "d148ece849a4065a",
   "outputs": [
    {
     "name": "stdout",
     "output_type": "stream",
     "text": [
      "Accuracy: 56.33%\n"
     ]
    },
    {
     "data": {
      "text/plain": [
       "array([[340,  15, 141,  65,  44],\n",
       "       [ 36, 664,  46,  63,  86],\n",
       "       [138,  19, 241, 111,  24],\n",
       "       [ 81,  41,  96, 228,  23],\n",
       "       [ 52, 131,  58,  68, 253]])"
      ]
     },
     "execution_count": 45,
     "metadata": {},
     "output_type": "execute_result"
    }
   ],
   "execution_count": 45
  },
  {
   "metadata": {
    "ExecuteTime": {
     "end_time": "2024-09-17T23:59:55.212143Z",
     "start_time": "2024-09-17T23:59:55.009826Z"
    }
   },
   "cell_type": "code",
   "source": [
    "# KNN\n",
    "X = df.drop(columns=['mood', 'name', 'key', 'mode', 'liveness', 'time_signature', 'acousticness'])\n",
    "y = df['mood']\n",
    "X_train, X_test, y_train, y_test = train_test_split(X, y, test_size=0.2, random_state=0)\n",
    "\n",
    "scaler = StandardScaler()\n",
    "X_train_scaled = scaler.fit_transform(X_train)\n",
    "X_test_scaled = scaler.transform(X_test)\n",
    "\n",
    "knn = KNeighborsClassifier(n_neighbors=25, weights='distance')\n",
    "knn.fit(X_train_scaled, y_train)\n",
    "\n",
    "y_pred = knn.predict(X_test_scaled)\n",
    "\n",
    "accuracy = accuracy_score(y_test, y_pred)\n",
    "conf_matrix = confusion_matrix(y_test, y_pred)\n",
    "report = classification_report(y_test, y_pred)\n",
    "print(f'Accuracy: {accuracy*100:.2f}%')\n",
    "print(conf_matrix)"
   ],
   "id": "dc57ceed6dbafc9e",
   "outputs": [
    {
     "name": "stdout",
     "output_type": "stream",
     "text": [
      "Accuracy: 60.28%\n",
      "[[336  29 102  88  50]\n",
      " [ 23 720  32  45  75]\n",
      " [120  28 237 125  23]\n",
      " [ 62  30  87 257  33]\n",
      " [ 50 112  50  53 297]]\n"
     ]
    }
   ],
   "execution_count": 143
  },
  {
   "metadata": {
    "ExecuteTime": {
     "end_time": "2024-09-17T23:59:27.541156Z",
     "start_time": "2024-09-17T23:59:27.514465Z"
    }
   },
   "cell_type": "code",
   "source": [
    "# Naive Bayes\n",
    "gnb = GaussianNB()\n",
    "gnb.fit(X_train, y_train)\n",
    "y_pred = gnb.predict(X_test)\n",
    "accuracy = accuracy_score(y_test, y_pred)\n",
    "conf_matrix = confusion_matrix(y_test, y_pred)\n",
    "print(f'Accuracy: {accuracy*100:.2f}%')"
   ],
   "id": "b9a472b227b7e063",
   "outputs": [
    {
     "name": "stdout",
     "output_type": "stream",
     "text": [
      "Accuracy: 53.72%\n",
      "[[320  14 176  58  37]\n",
      " [ 31 674  49  55  86]\n",
      " [139  20 264  76  34]\n",
      " [ 74  46 146 182  21]\n",
      " [ 70 140  65  81 206]]\n"
     ]
    }
   ],
   "execution_count": 141
  },
  {
   "metadata": {
    "ExecuteTime": {
     "end_time": "2024-09-17T23:28:52.003810Z",
     "start_time": "2024-09-17T23:28:51.855043Z"
    }
   },
   "cell_type": "code",
   "source": [
    "# Decision Trees\n",
    "clf = DecisionTreeClassifier(random_state=0)\n",
    "clf.fit(X_train, y_train)\n",
    "y_pred = clf.predict(X_test)\n",
    "accuracy = accuracy_score(y_test, y_pred)\n",
    "conf_matrix = confusion_matrix(y_test, y_pred)\n",
    "print(f'Accuracy: {accuracy*100:.2f}%')"
   ],
   "id": "f25f0e2a41e1d5d5",
   "outputs": [
    {
     "name": "stdout",
     "output_type": "stream",
     "text": [
      "Accuracy: 49.38%\n"
     ]
    }
   ],
   "execution_count": 48
  },
  {
   "metadata": {},
   "cell_type": "code",
   "outputs": [],
   "execution_count": null,
   "source": "",
   "id": "ba25035d5f6d721a"
  }
 ],
 "metadata": {
  "kernelspec": {
   "display_name": "Python 3",
   "language": "python",
   "name": "python3"
  },
  "language_info": {
   "codemirror_mode": {
    "name": "ipython",
    "version": 2
   },
   "file_extension": ".py",
   "mimetype": "text/x-python",
   "name": "python",
   "nbconvert_exporter": "python",
   "pygments_lexer": "ipython2",
   "version": "2.7.6"
  }
 },
 "nbformat": 4,
 "nbformat_minor": 5
}
