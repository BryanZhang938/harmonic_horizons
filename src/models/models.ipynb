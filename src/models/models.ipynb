{
 "cells": [
  {
   "cell_type": "code",
   "id": "initial_id",
   "metadata": {
    "collapsed": true,
    "ExecuteTime": {
     "end_time": "2024-09-17T01:45:53.657650Z",
     "start_time": "2024-09-17T01:45:53.641778Z"
    }
   },
   "source": [
    "import pandas as pd\n",
    "from sklearn.decomposition import PCA\n",
    "from sklearn.naive_bayes import GaussianNB\n",
    "from sklearn.preprocessing import StandardScaler\n",
    "from sklearn.linear_model import LogisticRegression\n",
    "from sklearn.discriminant_analysis import LinearDiscriminantAnalysis, QuadraticDiscriminantAnalysis\n",
    "from sklearn.neighbors import KNeighborsClassifier\n",
    "from sklearn.model_selection import train_test_split\n",
    "from sklearn.metrics import accuracy_score, confusion_matrix, classification_report\n",
    "from sklearn.naive_bayes import GaussianNB"
   ],
   "outputs": [],
   "execution_count": 478
  },
  {
   "metadata": {
    "ExecuteTime": {
     "end_time": "2024-09-17T01:45:53.782341Z",
     "start_time": "2024-09-17T01:45:53.758100Z"
    }
   },
   "cell_type": "code",
   "source": "df = pd.read_csv('/Users/bryanzhang/Desktop/career/projects/harmonic_horizons/data/cleaned_tracks.csv')",
   "id": "ddc932f0db3cac8f",
   "outputs": [],
   "execution_count": 479
  },
  {
   "metadata": {
    "ExecuteTime": {
     "end_time": "2024-09-17T01:45:55.371782Z",
     "start_time": "2024-09-17T01:45:53.907745Z"
    }
   },
   "cell_type": "code",
   "source": [
    "# Multinomial Logistic with Ridge Regression\n",
    "X = df.drop(columns=['mood', 'name'])\n",
    "y = df['mood']\n",
    "X_train, X_test, y_train, y_test = train_test_split(X, y, test_size=0.2, random_state=0)\n",
    "\n",
    "model = LogisticRegression(penalty='l2', solver='newton-cg')\n",
    "model.fit(X_train, y_train)\n",
    "\n",
    "y_pred = model.predict(X_test)\n",
    "accuracy = accuracy_score(y_test, y_pred)\n",
    "print(f'Accuracy: {accuracy*100:.2f}%')"
   ],
   "id": "7b2c3621b6adde2e",
   "outputs": [
    {
     "name": "stdout",
     "output_type": "stream",
     "text": [
      "Accuracy: 37.41%\n"
     ]
    }
   ],
   "execution_count": 480
  },
  {
   "metadata": {
    "ExecuteTime": {
     "end_time": "2024-09-17T01:45:55.438890Z",
     "start_time": "2024-09-17T01:45:55.372868Z"
    }
   },
   "cell_type": "code",
   "source": [
    "# PCA\n",
    "scaler = StandardScaler()\n",
    "X_train_scaled = scaler.fit_transform(X_train)\n",
    "X_test_scaled = scaler.transform(X_test)\n",
    "\n",
    "pca = PCA(n_components=14)\n",
    "X_train_pca = pca.fit_transform(X_train_scaled)\n",
    "X_test_pca = pca.transform(X_test_scaled)\n",
    "\n",
    "model = LogisticRegression(penalty=None, solver='lbfgs')\n",
    "model.fit(X_train_pca, y_train)\n",
    "\n",
    "y_pred = model.predict(X_test_pca)\n",
    "accuracy = accuracy_score(y_test, y_pred)\n",
    "print(f'Accuracy: {accuracy*100:.2f}%')"
   ],
   "id": "157406c659397a92",
   "outputs": [
    {
     "name": "stdout",
     "output_type": "stream",
     "text": [
      "Accuracy: 37.34%\n"
     ]
    }
   ],
   "execution_count": 481
  },
  {
   "metadata": {
    "ExecuteTime": {
     "end_time": "2024-09-17T01:45:55.466536Z",
     "start_time": "2024-09-17T01:45:55.439756Z"
    }
   },
   "cell_type": "code",
   "source": [
    "# LDA\n",
    "lda = LinearDiscriminantAnalysis()\n",
    "lda.fit(X_train, y_train)\n",
    "y_pred = lda.predict(X_test)\n",
    "\n",
    "accuracy = accuracy_score(y_test, y_pred)\n",
    "conf_matrix = confusion_matrix(y_test, y_pred)\n",
    "print(f'Accuracy: {accuracy*100:.2f}%')\n",
    "conf_matrix"
   ],
   "id": "ab8469627e83fc72",
   "outputs": [
    {
     "name": "stdout",
     "output_type": "stream",
     "text": [
      "Accuracy: 37.63%\n"
     ]
    },
    {
     "data": {
      "text/plain": [
       "array([[369,  41,  70,  43,  65,  23,   5],\n",
       "       [101, 140,  46,  95,  20,  15,  15],\n",
       "       [ 67,  13, 227,  31,  19,   7,   2],\n",
       "       [ 80,  73,  90, 168,  53,  17,   7],\n",
       "       [ 94,  22,  68,  69,  77,  14,   4],\n",
       "       [ 33,  15,  37,  49,  50,  29,   5],\n",
       "       [ 74,  19,  38,  63,  27,  18,  14]])"
      ]
     },
     "execution_count": 482,
     "metadata": {},
     "output_type": "execute_result"
    }
   ],
   "execution_count": 482
  },
  {
   "metadata": {
    "ExecuteTime": {
     "end_time": "2024-09-17T01:45:55.488279Z",
     "start_time": "2024-09-17T01:45:55.467918Z"
    }
   },
   "cell_type": "code",
   "source": [
    "# QDA\n",
    "qda = QuadraticDiscriminantAnalysis()\n",
    "qda.fit(X_train, y_train)\n",
    "y_pred = qda.predict(X_test)\n",
    "\n",
    "accuracy = accuracy_score(y_test, y_pred)\n",
    "conf_matrix = confusion_matrix(y_test, y_pred)\n",
    "print(f'Accuracy: {accuracy*100:.2f}%')\n",
    "conf_matrix"
   ],
   "id": "d148ece849a4065a",
   "outputs": [
    {
     "name": "stdout",
     "output_type": "stream",
     "text": [
      "Accuracy: 38.29%\n"
     ]
    },
    {
     "data": {
      "text/plain": [
       "array([[325,  41,  77,  22,  27, 105,  19],\n",
       "       [ 72, 177,  41,  56,  12,  68,   6],\n",
       "       [ 43,  15, 210,  15,  11,  68,   4],\n",
       "       [ 55, 102,  84, 119,  27,  85,  16],\n",
       "       [ 61,  31,  59,  33,  48, 109,   7],\n",
       "       [ 14,  17,  23,  16,  10, 127,  11],\n",
       "       [ 48,  33,  32,  20,  18,  66,  36]])"
      ]
     },
     "execution_count": 483,
     "metadata": {},
     "output_type": "execute_result"
    }
   ],
   "execution_count": 483
  },
  {
   "metadata": {
    "ExecuteTime": {
     "end_time": "2024-09-17T01:45:55.679319Z",
     "start_time": "2024-09-17T01:45:55.489014Z"
    }
   },
   "cell_type": "code",
   "source": [
    "# KNN\n",
    "X = df.drop(columns=['mood', 'name', 'liveness', 'key', 'mode', 'time_signature', 'tempo'])\n",
    "y = df['mood']\n",
    "X_train, X_test, y_train, y_test = train_test_split(X, y, test_size=0.2, random_state=0)\n",
    "\n",
    "scaler = StandardScaler()\n",
    "X_train_scaled = scaler.fit_transform(X_train)\n",
    "X_test_scaled = scaler.transform(X_test)\n",
    "\n",
    "knn = KNeighborsClassifier(n_neighbors=17)\n",
    "knn.fit(X_train_scaled, y_train)\n",
    "\n",
    "y_pred = knn.predict(X_test_scaled)\n",
    "\n",
    "accuracy = accuracy_score(y_test, y_pred)\n",
    "conf_matrix = confusion_matrix(y_test, y_pred)\n",
    "report = classification_report(y_test, y_pred, target_names=df['mood'].unique())\n",
    "print(f'Accuracy: {accuracy*100:.2f}%')\n",
    "conf_matrix"
   ],
   "id": "dc57ceed6dbafc9e",
   "outputs": [
    {
     "name": "stdout",
     "output_type": "stream",
     "text": [
      "Accuracy: 47.30%\n"
     ]
    },
    {
     "data": {
      "text/plain": [
       "array([[420,  23,  58,  27,  34,  24,  30],\n",
       "       [ 69, 200,  39,  62,  27,  23,  12],\n",
       "       [ 38,  16, 254,  20,  22,  11,   5],\n",
       "       [ 64,  70,  71, 202,  35,  25,  21],\n",
       "       [ 72,  19,  67,  53,  97,  23,  17],\n",
       "       [ 53,  17,  32,  25,  16,  66,   9],\n",
       "       [ 69,  25,  25,  42,  19,  25,  48]])"
      ]
     },
     "execution_count": 484,
     "metadata": {},
     "output_type": "execute_result"
    }
   ],
   "execution_count": 484
  },
  {
   "metadata": {
    "ExecuteTime": {
     "end_time": "2024-09-17T01:46:30.833938Z",
     "start_time": "2024-09-17T01:46:30.808160Z"
    }
   },
   "cell_type": "code",
   "source": [
    "# Naive Bayes\n",
    "gnb = GaussianNB()\n",
    "gnb.fit(X_train, y_train)\n",
    "y_pred = gnb.predict(X_test)\n",
    "accuracy = accuracy_score(y_test, y_pred)\n",
    "conf_matrix = confusion_matrix(y_test, y_pred)\n",
    "print(f'Accuracy: {accuracy*100:.2f}%')\n",
    "conf_matrix"
   ],
   "id": "b9a472b227b7e063",
   "outputs": [
    {
     "name": "stdout",
     "output_type": "stream",
     "text": [
      "Accuracy: 33.11%\n"
     ]
    },
    {
     "data": {
      "text/plain": [
       "array([[264,  67,  66,  31,  32, 156,   0],\n",
       "       [ 52, 223,  51,  28,   8,  70,   0],\n",
       "       [ 47,  24, 202,  11,   3,  79,   0],\n",
       "       [ 50, 162,  89,  51,   8, 128,   0],\n",
       "       [ 49,  61,  68,  16,  11, 143,   0],\n",
       "       [  7,  19,  27,  10,   6, 148,   1],\n",
       "       [ 39,  59,  35,  18,   9,  91,   2]])"
      ]
     },
     "execution_count": 486,
     "metadata": {},
     "output_type": "execute_result"
    }
   ],
   "execution_count": 486
  },
  {
   "metadata": {},
   "cell_type": "code",
   "outputs": [],
   "execution_count": null,
   "source": "",
   "id": "f25f0e2a41e1d5d5"
  }
 ],
 "metadata": {
  "kernelspec": {
   "display_name": "Python 3",
   "language": "python",
   "name": "python3"
  },
  "language_info": {
   "codemirror_mode": {
    "name": "ipython",
    "version": 2
   },
   "file_extension": ".py",
   "mimetype": "text/x-python",
   "name": "python",
   "nbconvert_exporter": "python",
   "pygments_lexer": "ipython2",
   "version": "2.7.6"
  }
 },
 "nbformat": 4,
 "nbformat_minor": 5
}
