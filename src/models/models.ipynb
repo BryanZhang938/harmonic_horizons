{
 "cells": [
  {
   "cell_type": "code",
   "id": "initial_id",
   "metadata": {
    "collapsed": true,
    "ExecuteTime": {
     "end_time": "2024-09-18T00:29:30.181252Z",
     "start_time": "2024-09-18T00:29:30.177452Z"
    }
   },
   "source": [
    "import pandas as pd\n",
    "from sklearn.decomposition import PCA\n",
    "from sklearn.preprocessing import StandardScaler\n",
    "from sklearn.tree import DecisionTreeClassifier, DecisionTreeRegressor\n",
    "from sklearn.linear_model import LogisticRegression\n",
    "from sklearn.discriminant_analysis import LinearDiscriminantAnalysis, QuadraticDiscriminantAnalysis\n",
    "from sklearn.neighbors import KNeighborsClassifier\n",
    "from sklearn.model_selection import train_test_split\n",
    "from sklearn.metrics import accuracy_score, confusion_matrix, classification_report\n",
    "from sklearn.naive_bayes import GaussianNB"
   ],
   "outputs": [],
   "execution_count": 147
  },
  {
   "metadata": {
    "ExecuteTime": {
     "end_time": "2024-09-18T00:29:30.682316Z",
     "start_time": "2024-09-18T00:29:30.650976Z"
    }
   },
   "cell_type": "code",
   "source": "df = pd.read_csv('/Users/bryanzhang/Desktop/career/projects/harmonic_horizons/data/cleaned_tracks2.csv')",
   "id": "ddc932f0db3cac8f",
   "outputs": [],
   "execution_count": 148
  },
  {
   "metadata": {
    "ExecuteTime": {
     "end_time": "2024-09-18T00:29:53.055542Z",
     "start_time": "2024-09-18T00:29:31.181713Z"
    }
   },
   "cell_type": "code",
   "source": [
    "# Multinomial Logistic with Ridge Regression\n",
    "X = df.drop(columns=['mood', 'name'])\n",
    "y = df['mood']\n",
    "X_train, X_test, y_train, y_test = train_test_split(X, y, test_size=0.2, random_state=0)\n",
    "\n",
    "model = LogisticRegression(penalty='l2', solver='lbfgs', max_iter=100000, class_weight='balanced')\n",
    "model.fit(X_train, y_train)\n",
    "\n",
    "y_pred = model.predict(X_test)\n",
    "accuracy = accuracy_score(y_test, y_pred)\n",
    "print(f'Accuracy: {accuracy*100:.2f}%')"
   ],
   "id": "7b2c3621b6adde2e",
   "outputs": [
    {
     "name": "stdout",
     "output_type": "stream",
     "text": [
      "Accuracy: 56.34%\n"
     ]
    }
   ],
   "execution_count": 149
  },
  {
   "metadata": {
    "ExecuteTime": {
     "end_time": "2024-09-18T00:29:53.132871Z",
     "start_time": "2024-09-18T00:29:53.056767Z"
    }
   },
   "cell_type": "code",
   "source": [
    "# PCA\n",
    "scaler = StandardScaler()\n",
    "X_train_scaled = scaler.fit_transform(X_train)\n",
    "X_test_scaled = scaler.transform(X_test)\n",
    "\n",
    "pca = PCA(n_components=14)\n",
    "X_train_pca = pca.fit_transform(X_train_scaled)\n",
    "X_test_pca = pca.transform(X_test_scaled)\n",
    "\n",
    "model = LogisticRegression(penalty=None, solver='lbfgs', class_weight='balanced')\n",
    "model.fit(X_train_pca, y_train)\n",
    "\n",
    "y_pred = model.predict(X_test_pca)\n",
    "accuracy = accuracy_score(y_test, y_pred)\n",
    "print(f'Accuracy: {accuracy*100:.2f}%')"
   ],
   "id": "157406c659397a92",
   "outputs": [
    {
     "name": "stdout",
     "output_type": "stream",
     "text": [
      "Accuracy: 56.46%\n"
     ]
    }
   ],
   "execution_count": 150
  },
  {
   "metadata": {
    "ExecuteTime": {
     "end_time": "2024-09-18T00:29:53.170795Z",
     "start_time": "2024-09-18T00:29:53.133831Z"
    }
   },
   "cell_type": "code",
   "source": [
    "# LDA\n",
    "lda = LinearDiscriminantAnalysis()\n",
    "lda.fit(X_train, y_train)\n",
    "y_pred = lda.predict(X_test)\n",
    "\n",
    "accuracy = accuracy_score(y_test, y_pred)\n",
    "conf_matrix = confusion_matrix(y_test, y_pred)\n",
    "print(f'Accuracy: {accuracy*100:.2f}%')\n",
    "conf_matrix"
   ],
   "id": "ab8469627e83fc72",
   "outputs": [
    {
     "name": "stdout",
     "output_type": "stream",
     "text": [
      "Accuracy: 56.61%\n"
     ]
    },
    {
     "data": {
      "text/plain": [
       "array([[557,  12, 186,  62,  53],\n",
       "       [ 40, 945,  61,  22, 145],\n",
       "       [253,  45, 294,  94,  58],\n",
       "       [ 92,  65, 103, 152,  59],\n",
       "       [131, 174,  75,  42, 364]])"
      ]
     },
     "execution_count": 151,
     "metadata": {},
     "output_type": "execute_result"
    }
   ],
   "execution_count": 151
  },
  {
   "metadata": {
    "ExecuteTime": {
     "end_time": "2024-09-18T00:29:53.200533Z",
     "start_time": "2024-09-18T00:29:53.172073Z"
    }
   },
   "cell_type": "code",
   "source": [
    "# QDA\n",
    "qda = QuadraticDiscriminantAnalysis()\n",
    "qda.fit(X_train, y_train)\n",
    "y_pred = qda.predict(X_test)\n",
    "\n",
    "accuracy = accuracy_score(y_test, y_pred)\n",
    "conf_matrix = confusion_matrix(y_test, y_pred)\n",
    "print(f'Accuracy: {accuracy*100:.2f}%')\n",
    "conf_matrix"
   ],
   "id": "d148ece849a4065a",
   "outputs": [
    {
     "name": "stdout",
     "output_type": "stream",
     "text": [
      "Accuracy: 55.34%\n"
     ]
    },
    {
     "data": {
      "text/plain": [
       "array([[629,  21, 104,  57,  59],\n",
       "       [ 53, 910,  73,  33, 144],\n",
       "       [307,  47, 228, 114,  48],\n",
       "       [145,  51,  83, 153,  39],\n",
       "       [174, 147,  65,  60, 340]])"
      ]
     },
     "execution_count": 152,
     "metadata": {},
     "output_type": "execute_result"
    }
   ],
   "execution_count": 152
  },
  {
   "metadata": {
    "ExecuteTime": {
     "end_time": "2024-09-18T00:31:22.450809Z",
     "start_time": "2024-09-18T00:31:21.710692Z"
    }
   },
   "cell_type": "code",
   "source": [
    "# KNN\n",
    "X = df.drop(columns=['mood', 'name'])\n",
    "y = df['mood']\n",
    "X_train, X_test, y_train, y_test = train_test_split(X, y, test_size=0.2, random_state=0)\n",
    "\n",
    "scaler = StandardScaler()\n",
    "X_train_scaled = scaler.fit_transform(X_train)\n",
    "X_test_scaled = scaler.transform(X_test)\n",
    "\n",
    "knn = KNeighborsClassifier(n_neighbors=25, weights='distance')\n",
    "knn.fit(X_train_scaled, y_train)\n",
    "\n",
    "y_pred = knn.predict(X_test_scaled)\n",
    "\n",
    "accuracy = accuracy_score(y_test, y_pred)\n",
    "conf_matrix = confusion_matrix(y_test, y_pred)\n",
    "report = classification_report(y_test, y_pred)\n",
    "print(f'Accuracy: {accuracy*100:.2f}%')\n",
    "report"
   ],
   "id": "dc57ceed6dbafc9e",
   "outputs": [
    {
     "name": "stdout",
     "output_type": "stream",
     "text": [
      "Accuracy: 58.30%\n"
     ]
    },
    {
     "data": {
      "text/plain": [
       "'              precision    recall  f1-score   support\\n\\n       angry       0.54      0.64      0.59       870\\n        calm       0.76      0.81      0.79      1213\\n   energetic       0.43      0.41      0.42       744\\n       happy       0.43      0.34      0.38       471\\n         sad       0.54      0.48      0.51       786\\n\\n    accuracy                           0.58      4084\\n   macro avg       0.54      0.54      0.54      4084\\nweighted avg       0.58      0.58      0.58      4084\\n'"
      ]
     },
     "execution_count": 158,
     "metadata": {},
     "output_type": "execute_result"
    }
   ],
   "execution_count": 158
  },
  {
   "metadata": {
    "ExecuteTime": {
     "end_time": "2024-09-18T00:29:53.554837Z",
     "start_time": "2024-09-18T00:29:53.533274Z"
    }
   },
   "cell_type": "code",
   "source": [
    "# Naive Bayes\n",
    "gnb = GaussianNB()\n",
    "gnb.fit(X_train, y_train)\n",
    "y_pred = gnb.predict(X_test)\n",
    "accuracy = accuracy_score(y_test, y_pred)\n",
    "conf_matrix = confusion_matrix(y_test, y_pred)\n",
    "print(f'Accuracy: {accuracy*100:.2f}%')"
   ],
   "id": "b9a472b227b7e063",
   "outputs": [
    {
     "name": "stdout",
     "output_type": "stream",
     "text": [
      "Accuracy: 53.38%\n"
     ]
    }
   ],
   "execution_count": 154
  },
  {
   "metadata": {
    "ExecuteTime": {
     "end_time": "2024-09-18T00:29:53.746073Z",
     "start_time": "2024-09-18T00:29:53.555412Z"
    }
   },
   "cell_type": "code",
   "source": [
    "# Decision Trees\n",
    "clf = DecisionTreeClassifier(random_state=0)\n",
    "clf.fit(X_train, y_train)\n",
    "y_pred = clf.predict(X_test)\n",
    "accuracy = accuracy_score(y_test, y_pred)\n",
    "conf_matrix = confusion_matrix(y_test, y_pred)\n",
    "print(f'Accuracy: {accuracy*100:.2f}%')"
   ],
   "id": "f25f0e2a41e1d5d5",
   "outputs": [
    {
     "name": "stdout",
     "output_type": "stream",
     "text": [
      "Accuracy: 50.61%\n"
     ]
    }
   ],
   "execution_count": 155
  },
  {
   "metadata": {
    "ExecuteTime": {
     "end_time": "2024-09-18T01:15:06.262358Z",
     "start_time": "2024-09-18T01:15:06.256788Z"
    }
   },
   "cell_type": "code",
   "source": "",
   "id": "ba25035d5f6d721a",
   "outputs": [
    {
     "data": {
      "text/plain": [
       "False"
      ]
     },
     "execution_count": 159,
     "metadata": {},
     "output_type": "execute_result"
    }
   ],
   "execution_count": 159
  },
  {
   "metadata": {},
   "cell_type": "code",
   "outputs": [],
   "execution_count": null,
   "source": "",
   "id": "174cfd49da64638a"
  }
 ],
 "metadata": {
  "kernelspec": {
   "display_name": "Python 3",
   "language": "python",
   "name": "python3"
  },
  "language_info": {
   "codemirror_mode": {
    "name": "ipython",
    "version": 2
   },
   "file_extension": ".py",
   "mimetype": "text/x-python",
   "name": "python",
   "nbconvert_exporter": "python",
   "pygments_lexer": "ipython2",
   "version": "2.7.6"
  }
 },
 "nbformat": 4,
 "nbformat_minor": 5
}
